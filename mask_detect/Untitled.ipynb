{
 "cells": [
  {
   "cell_type": "code",
   "execution_count": 1,
   "metadata": {},
   "outputs": [],
   "source": [
    "from tensorflow.keras.applications.mobilenet_v2 import preprocess_input\n",
    "from tensorflow.keras.preprocessing.image import img_to_array\n",
    "from tensorflow.keras.models import load_model\n",
    "import numpy as np\n",
    "import argparse\n",
    "import cv2\n",
    "from PIL import Image\n",
    "import os\n",
    "import pathlib"
   ]
  },
  {
   "cell_type": "code",
   "execution_count": 2,
   "metadata": {},
   "outputs": [],
   "source": [
    "image_path = \"images/pic1.jpeg\""
   ]
  },
  {
   "cell_type": "code",
   "execution_count": 3,
   "metadata": {},
   "outputs": [],
   "source": [
    "def cv2pil(image):\n",
    "    ''' OpenCV型 -> PIL型 '''\n",
    "    new_image = image.copy()\n",
    "    if new_image.ndim == 2:  # モノクロ\n",
    "        pass\n",
    "    elif new_image.shape[2] == 3:  # カラー\n",
    "        new_image = cv2.cvtColor(new_image, cv2.COLOR_BGR2RGB)\n",
    "    elif new_image.shape[2] == 4:  # 透過\n",
    "        new_image = cv2.cvtColor(new_image, cv2.COLOR_BGRA2RGBA)\n",
    "    new_image = Image.fromarray(new_image)\n",
    "    return new_image"
   ]
  },
  {
   "cell_type": "code",
   "execution_count": 4,
   "metadata": {},
   "outputs": [],
   "source": [
    "def mask_image(image_path, face = \"face_detector\", model = \"mask_detector.model\", confidence = 0.5):\n",
    "    \n",
    "    parms = {}\n",
    "    parms[\"image\"] = image_path\n",
    "    parms[\"face\"] = face\n",
    "    parms[\"model\"] = model\n",
    "    parms[\"confidence\"] = confidence\n",
    "\n",
    "    # load our serialized face detector model from disk\n",
    "    print(\"[INFO] loading face detector model...\")\n",
    "    prototxtPath = os.path.sep.join([parms[\"face\"], \"deploy.prototxt\"])\n",
    "    weightsPath = os.path.sep.join([parms[\"face\"],\n",
    "                                    \"res10_300x300_ssd_iter_140000.caffemodel\"])\n",
    "    net = cv2.dnn.readNet(prototxtPath, weightsPath)\n",
    "\n",
    "    # load the face mask detector model from disk\n",
    "    print(\"[INFO] loading face mask detector model...\")\n",
    "    model = load_model(parms[\"model\"])\n",
    "\n",
    "    # load the input image from disk, clone it, and grab the image spatial\n",
    "    # dimensions\n",
    "    image = cv2.imread(parms[\"image\"])\n",
    "    orig = image.copy()\n",
    "    (h, w) = image.shape[:2]\n",
    "\n",
    "    # construct a blob from the image\n",
    "    blob = cv2.dnn.blobFromImage(image, 1.0, (300, 300),\n",
    "                                 (104.0, 177.0, 123.0))\n",
    "\n",
    "    # pass the blob through the network and obtain the face detections\n",
    "    print(\"[INFO] computing face detections...\")\n",
    "    net.setInput(blob)\n",
    "    detections = net.forward()\n",
    "\n",
    "    # loop over the detections\n",
    "    for i in range(0, detections.shape[2]):\n",
    "        # extract the confidence (i.e., probability) associated with\n",
    "        # the detection\n",
    "        confidence = detections[0, 0, i, 2]\n",
    "\n",
    "        # filter out weak detections by ensuring the confidence is\n",
    "        # greater than the minimum confidence\n",
    "        if confidence > parms[\"confidence\"]:\n",
    "            # compute the (x, y)-coordinates of the bounding box for\n",
    "            # the object\n",
    "            box = detections[0, 0, i, 3:7] * np.array([w, h, w, h])\n",
    "            (startX, startY, endX, endY) = box.astype(\"int\")\n",
    "\n",
    "            # ensure the bounding boxes fall within the dimensions of\n",
    "            # the frame\n",
    "            (startX, startY) = (max(0, startX), max(0, startY))\n",
    "            (endX, endY) = (min(w - 1, endX), min(h - 1, endY))\n",
    "\n",
    "            # extract the face ROI, convert it from BGR to RGB channel\n",
    "            # ordering, resize it to 224x224, and preprocess it\n",
    "            face = image[startY:endY, startX:endX]\n",
    "            face = cv2.cvtColor(face, cv2.COLOR_BGR2RGB)\n",
    "            face = cv2.resize(face, (224, 224))\n",
    "            face = img_to_array(face)\n",
    "            face = preprocess_input(face)\n",
    "            face = np.expand_dims(face, axis=0)\n",
    "\n",
    "            # pass the face through the model to determine if the face\n",
    "            # has a mask or not\n",
    "            (mask, withoutMask) = model.predict(face)[0]\n",
    "\n",
    "            # determine the class label and color we'll use to draw\n",
    "            # the bounding box and text\n",
    "            label = \"Mask\" if mask > withoutMask else \"No Mask\"\n",
    "            color = (0, 255, 0) if label == \"Mask\" else (0, 0, 255)\n",
    "\n",
    "            # include the probability in the label\n",
    "            label = \"{}: {:.2f}%\".format(label, max(mask, withoutMask) * 100)\n",
    "\n",
    "            # display the label and bounding box rectangle on the output\n",
    "            # frame\n",
    "            cv2.putText(image, label, (startX, startY - 10),\n",
    "                        cv2.FONT_HERSHEY_SIMPLEX, 0.45, color, 2)\n",
    "            cv2.rectangle(image, (startX, startY), (endX, endY), color, 2)\n",
    "            print(label)\n",
    "\n",
    "    # show the output image\n",
    "    display(cv2pil(image))\n",
    "#     cv2.imwrite('./images/output.png', image)\n",
    "#     cv2.imshow(\"Output\", image)\n",
    "#     cv2.waitKey(0)"
   ]
  },
  {
   "cell_type": "code",
   "execution_count": 5,
   "metadata": {},
   "outputs": [
    {
     "data": {
      "text/plain": [
       "[PosixPath('images/images/1.jpg'),\n",
       " PosixPath('images/images/10.jpg'),\n",
       " PosixPath('images/images/11.jpg'),\n",
       " PosixPath('images/images/12.jpg'),\n",
       " PosixPath('images/images/13.jpg'),\n",
       " PosixPath('images/images/14.jpg'),\n",
       " PosixPath('images/images/15.jpg'),\n",
       " PosixPath('images/images/16.jpg'),\n",
       " PosixPath('images/images/17.jpg'),\n",
       " PosixPath('images/images/18.jpg'),\n",
       " PosixPath('images/images/19.jpg'),\n",
       " PosixPath('images/images/2.jpg'),\n",
       " PosixPath('images/images/20.jpg'),\n",
       " PosixPath('images/images/3.jpg'),\n",
       " PosixPath('images/images/4.jpg'),\n",
       " PosixPath('images/images/5.jpg'),\n",
       " PosixPath('images/images/6.jpg'),\n",
       " PosixPath('images/images/7.jpg'),\n",
       " PosixPath('images/images/8.jpg'),\n",
       " PosixPath('images/images/9.jpg')]"
      ]
     },
     "execution_count": 5,
     "metadata": {},
     "output_type": "execute_result"
    }
   ],
   "source": [
    "PATH_TO_TEST_IMAGES_DIR = pathlib.Path('./images/images')\n",
    "TEST_IMAGE_PATHS = sorted(list(PATH_TO_TEST_IMAGES_DIR.glob(\"*.jpg\")))\n",
    "TEST_IMAGE_PATHS"
   ]
  },
  {
   "cell_type": "code",
   "execution_count": 6,
   "metadata": {},
   "outputs": [
    {
     "data": {
      "text/plain": [
       "'images/images/1.jpg'"
      ]
     },
     "execution_count": 6,
     "metadata": {},
     "output_type": "execute_result"
    }
   ],
   "source": [
    "str(TEST_IMAGE_PATHS[0])"
   ]
  },
  {
   "cell_type": "code",
   "execution_count": null,
   "metadata": {},
   "outputs": [],
   "source": [
    "for img_path in TEST_IMAGE_PATHS:\n",
    "    mask_image(str(img_path))"
   ]
  }
 ],
 "metadata": {
  "kernelspec": {
   "display_name": "Python 3",
   "language": "python",
   "name": "python3"
  },
  "language_info": {
   "codemirror_mode": {
    "name": "ipython",
    "version": 3
   },
   "file_extension": ".py",
   "mimetype": "text/x-python",
   "name": "python",
   "nbconvert_exporter": "python",
   "pygments_lexer": "ipython3",
   "version": "3.7.3"
  }
 },
 "nbformat": 4,
 "nbformat_minor": 2
}
